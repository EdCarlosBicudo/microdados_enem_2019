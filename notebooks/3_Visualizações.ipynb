{
    "cells": [
        {
            "cell_type": "markdown",
            "source": [
                "## Primeiro temos uma visualização das médias por estado de nascimento dos inscritos."
            ],
            "metadata": {}
        },
        {
            "cell_type": "markdown",
            "source": [
                "![Title](../gráficos/média_de_notas_por_estado.png)"
            ],
            "metadata": {}
        },
        {
            "cell_type": "markdown",
            "source": [
                "## Visualizando as notas por faixas de renda"
            ],
            "metadata": {}
        },
        {
            "cell_type": "markdown",
            "source": [
                "![Title](../gráficos/média_de_notas_por_faixa_de_renda.png)"
            ],
            "metadata": {}
        },
        {
            "cell_type": "markdown",
            "source": [
                "## Visualizando as notas de acordo com a ocupação dos pais."
            ],
            "metadata": {}
        },
        {
            "cell_type": "markdown",
            "source": [
                "![Title](../gráficos/média_de_notas_por_ocupação_do_pai.png)\r\n",
                "![Title](../gráficos/média_de_notas_por_ocupação_da_mãe.png)"
            ],
            "metadata": {}
        },
        {
            "cell_type": "markdown",
            "source": [
                "## Visualizando as notas de acordo com os anos de estudo dos pais."
            ],
            "metadata": {}
        },
        {
            "cell_type": "markdown",
            "source": [
                "![Title](../gráficos/média_de_notas_por_estudo_do_pai.png)\r\n",
                "![Title](../gráficos/média_de_notas_por_estudo_da_mãe.png)"
            ],
            "metadata": {}
        },
        {
            "cell_type": "markdown",
            "source": [
                "## Visualizando os dados por diversas necessidades especiais."
            ],
            "metadata": {}
        },
        {
            "cell_type": "markdown",
            "source": [
                "![Title](../gráficos/média_de_notas_por_baixa_visão.png)|![Title](../gráficos/média_de_notas_por_cegueira.png)|![Title](../gráficos/média_de_notas_por_surdez.png)\r\n",
                "-----|-----|----- \r\n",
                "![Title](../gráficos/média_de_notas_por_deficiência_física.png)|![Title](../gráficos/média_de_notas_por_deficiência_mental.png)|![Title](../gráficos/média_de_notas_por_autismo.png)\r\n",
                "![Title](../gráficos/média_de_notas_por_dislexia.png)|![Title](../gráficos/média_de_notas_por_discalculia.png)|![Title](../gráficos/média_de_notas_por_defict_de_atenção.png)"
            ],
            "metadata": {}
        },
        {
            "cell_type": "markdown",
            "source": [],
            "metadata": {}
        }
    ],
    "metadata": {
        "orig_nbformat": 4,
        "language_info": {
            "name": "python"
        }
    },
    "nbformat": 4,
    "nbformat_minor": 2
}